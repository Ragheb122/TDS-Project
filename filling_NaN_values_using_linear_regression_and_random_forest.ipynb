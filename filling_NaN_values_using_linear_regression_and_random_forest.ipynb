{
  "cells": [
    {
      "cell_type": "markdown",
      "metadata": {
        "id": "gYUR0belfmfT"
      },
      "source": [
        "# DataSet1 - Students Performance - Linear regression"
      ]
    },
    {
      "cell_type": "markdown",
      "metadata": {
        "id": "qzQhXzzjgBve"
      },
      "source": [
        "**imports**"
      ]
    },
    {
      "cell_type": "code",
      "execution_count": null,
      "metadata": {
        "id": "NYXb1g0WgBvv"
      },
      "outputs": [],
      "source": [
        "import pandas as pd\n",
        "import numpy as np\n",
        "from sklearn.linear_model import LinearRegression\n",
        "import math\n",
        "import matplotlib.pyplot as plt\n",
        "import seaborn as sns"
      ]
    },
    {
      "cell_type": "markdown",
      "metadata": {
        "id": "Am1uO1bggBvv"
      },
      "source": [
        "**load dataset**"
      ]
    },
    {
      "cell_type": "code",
      "execution_count": null,
      "metadata": {
        "colab": {
          "base_uri": "https://localhost:8080/"
        },
        "id": "iW09mvDegBvw",
        "outputId": "c8a0a827-6529-458e-a757-7bd6333e9920"
      },
      "outputs": [
        {
          "name": "stdout",
          "output_type": "stream",
          "text": [
            "   gender race/ethnicity parental level of education         lunch  \\\n",
            "0  female        group B           bachelor's degree      standard   \n",
            "1  female        group C                some college      standard   \n",
            "2  female        group B             master's degree      standard   \n",
            "3    male        group A          associate's degree  free/reduced   \n",
            "4    male        group C                some college      standard   \n",
            "\n",
            "  test preparation course  math score  reading score  writing score  \n",
            "0                    none          72             72             74  \n",
            "1               completed          69             90             88  \n",
            "2                    none          90             95             93  \n",
            "3                    none          47             57             44  \n",
            "4                    none          76             78             75  \n",
            "       math score  reading score  writing score\n",
            "count  1000.00000    1000.000000    1000.000000\n",
            "mean     66.08900      69.169000      68.054000\n",
            "std      15.16308      14.600192      15.195657\n",
            "min       0.00000      17.000000      10.000000\n",
            "25%      57.00000      59.000000      57.750000\n",
            "50%      66.00000      70.000000      69.000000\n",
            "75%      77.00000      79.000000      79.000000\n",
            "max     100.00000     100.000000     100.000000\n"
          ]
        }
      ],
      "source": [
        "df1 = pd.read_csv(\"StudentsPerformance.csv\")\n",
        "#sample_length of null values\n",
        "length = 100\n",
        "df = pd.read_csv(\"StudentsPerformance.csv\")\n",
        "df_original = pd.read_csv(\"StudentsPerformance.csv\")\n",
        "summary = df_original.describe()\n",
        "print(df.head())\n",
        "print(summary)\n"
      ]
    },
    {
      "cell_type": "markdown",
      "metadata": {
        "id": "ZuihJBF9gBvw"
      },
      "source": [
        "**Find the correlation with each column**"
      ]
    },
    {
      "cell_type": "code",
      "execution_count": null,
      "metadata": {
        "colab": {
          "base_uri": "https://localhost:8080/",
          "height": 338
        },
        "id": "Jq3qE_WYgBvw",
        "outputId": "c52c02db-981f-4a62-e6cc-dc6e7acbc215"
      },
      "outputs": [
        {
          "data": {
            "image/png": "[encoded data removed]",
            "text/plain": [
              "<Figure size 432x288 with 2 Axes>"
            ]
          },
          "metadata": {},
          "output_type": "display_data"
        },
        {
          "name": "stdout",
          "output_type": "stream",
          "text": [
            "math score       0.817580\n",
            "reading score    1.000000\n",
            "writing score    0.954598\n",
            "Name: reading score, dtype: float64\n"
          ]
        }
      ],
      "source": [
        "# Compute the correlation matrix\n",
        "corr = df.corr()\n",
        "sns.heatmap(corr, annot=True, cmap='coolwarm')\n",
        "plt.show()\n",
        "# find the correlation of each column with \"other_sales\"\n",
        "corr_matrix = df1.corr()[\"reading score\"]\n",
        "\n",
        "# print the correlation values\n",
        "print(corr_matrix)"
      ]
    },
    {
      "cell_type": "markdown",
      "metadata": {
        "id": "LtA85UKYgBvx"
      },
      "source": [
        "**set random values to nan**"
      ]
    },
    {
      "cell_type": "code",
      "execution_count": null,
      "metadata": {
        "colab": {
          "base_uri": "https://localhost:8080/"
        },
        "id": "aSVsccdtgBvx",
        "outputId": "94579893-bb31-44e6-ab6c-dd297a91a74d"
      },
      "outputs": [
        {
          "data": {
            "text/plain": [
              "gender                           0\n",
              "race/ethnicity                   0\n",
              "parental level of education      0\n",
              "lunch                            0\n",
              "test preparation course          0\n",
              "math score                       0\n",
              "reading score                  100\n",
              "writing score                    0\n",
              "dtype: int64"
            ]
          },
          "execution_count": 62,
          "metadata": {},
          "output_type": "execute_result"
        }
      ],
      "source": [
        "idx = np.random.choice(df.index, size=length, replace=False)\n",
        "df.loc[idx, 'reading score'] = np.nan\n",
        "mask1_df = df[\"reading score\"].isnull()\n",
        "#print number of nan values in each column\n",
        "df.isnull().sum()"
      ]
    },
    {
      "cell_type": "markdown",
      "metadata": {
        "id": "h7q7EU21gBvx"
      },
      "source": [
        "**drop null values from dataset to train**"
      ]
    },
    {
      "cell_type": "code",
      "execution_count": null,
      "metadata": {
        "id": "EBHIiOZEgBvy"
      },
      "outputs": [],
      "source": [
        "df_copy1 = df.copy()\n",
        "df_copy1.dropna(axis=0, inplace=True)"
      ]
    },
    {
      "cell_type": "markdown",
      "metadata": {
        "id": "h6iq4NBMgBvy"
      },
      "source": [
        "**predicting the null values using linear regression**"
      ]
    },
    {
      "cell_type": "code",
      "execution_count": null,
      "metadata": {
        "colab": {
          "base_uri": "https://localhost:8080/"
        },
        "id": "iwTQtrshgBvy",
        "outputId": "4e94c8c8-ac5f-4dc7-8b82-497e9952e893"
      },
      "outputs": [
        {
          "name": "stdout",
          "output_type": "stream",
          "text": [
            "     reading score  reading score_predicted\n",
            "7               43                42.224700\n",
            "12              81                72.965921\n",
            "16              89                86.569448\n",
            "24              71                79.825168\n",
            "36              81                82.234095\n",
            "..             ...                      ...\n",
            "943             62                62.779805\n",
            "947             58                60.325607\n",
            "948             50                53.901801\n",
            "974             63                66.634446\n",
            "994             63                63.857984\n",
            "\n",
            "[100 rows x 2 columns]\n"
          ]
        }
      ],
      "source": [
        "X = df_copy1.iloc[:, [5,7]]\n",
        "Y = df_copy1.iloc[:, 6]\n",
        "X_Test = df[mask1_df].iloc[:, [5,7]]\n",
        "#X_Test = np.nan_to_num(X_Test)\n",
        "reg = LinearRegression()\n",
        "reg.fit(X, Y)\n",
        "res = reg.predict(X_Test)\n",
        "# Add the predicted values to a new column in the original DataFrame\n",
        "df_original.loc[mask1_df, 'reading score_predicted'] = res\n",
        "# Print the DataFrame with both the original and predicted values\n",
        "print(df_original.loc[mask1_df, ['reading score', 'reading score_predicted']])"
      ]
    },
    {
      "cell_type": "markdown",
      "metadata": {
        "id": "Di2qm8FCgBvz"
      },
      "source": [
        "**fill nan values with predicted values**"
      ]
    },
    {
      "cell_type": "code",
      "execution_count": null,
      "metadata": {
        "id": "FlPwV5hpgBvz"
      },
      "outputs": [],
      "source": [
        "j = 0\n",
        "arr = df[df['reading score'].isna()].index\n",
        "for i in arr:\n",
        "    df.at[i, 'reading score'] = float(res[j])\n",
        "    j += 1"
      ]
    },
    {
      "cell_type": "markdown",
      "metadata": {
        "id": "L35hUlGPgBvz"
      },
      "source": [
        "**calcuate error of linear regression predictions using RMSE**"
      ]
    },
    {
      "cell_type": "code",
      "execution_count": null,
      "metadata": {
        "colab": {
          "base_uri": "https://localhost:8080/"
        },
        "id": "CeRhJCm9gBvz",
        "outputId": "c0987d34-0efd-4022-ead4-beccca03302c"
      },
      "outputs": [
        {
          "name": "stdout",
          "output_type": "stream",
          "text": [
            "Root Mean Square Error using linear regression method:\n",
            "4.1634751671380075\n"
          ]
        }
      ],
      "source": [
        "y_actual = list(df_original.loc[idx,'reading score'])\n",
        "y_predicted = list(df.loc[idx,'reading score'])\n",
        "MSE = np.square(np.subtract(y_actual, y_predicted)).mean()\n",
        "RMSE = math.sqrt(MSE)\n",
        "print(\"Root Mean Square Error using linear regression method:\")\n",
        "print(RMSE)"
      ]
    },
    {
      "cell_type": "markdown",
      "metadata": {
        "id": "rGBgJ7sKgBv0"
      },
      "source": [
        "**show graph for comparing the results of linear reg with actual values**"
      ]
    },
    {
      "cell_type": "code",
      "execution_count": null,
      "metadata": {
        "colab": {
          "base_uri": "https://localhost:8080/",
          "height": 295
        },
        "id": "5pzYNuc4gBv0",
        "outputId": "82ecd850-c7d5-48aa-dfb2-63f190e21a6e"
      },
      "outputs": [
        {
          "data": {
            "image/png": "[encoded data removed]",
            "text/plain": [
              "<Figure size 432x288 with 2 Axes>"
            ]
          },
          "metadata": {},
          "output_type": "display_data"
        }
      ],
      "source": [
        "# Plot predicted values\n",
        "plt.subplot(1, 2, 1)\n",
        "plt.scatter(idx, df.loc[idx,'reading score'], color='red')\n",
        "plt.title('Predicted Values')\n",
        "plt.xlabel('Index')\n",
        "plt.ylabel('reading score')\n",
        "\n",
        "# Plot original values\n",
        "plt.subplot(1, 2, 2)\n",
        "plt.scatter(idx, df_original.loc[idx,'reading score'], color='blue')\n",
        "plt.title('Original Values')\n",
        "plt.xlabel('Index')\n",
        "plt.ylabel('reading score')\n",
        "\n",
        "# Adjust plot spacing\n",
        "plt.subplots_adjust(wspace=0.4)\n",
        "\n",
        "# Show plot\n",
        "plt.show()"
      ]
    },
    {
      "cell_type": "markdown",
      "metadata": {
        "id": "c-Wzgs2rgBv0"
      },
      "source": [
        "**fill null values using mean and compare with actual values using RMSE**"
      ]
    },
    {
      "cell_type": "code",
      "execution_count": null,
      "metadata": {
        "colab": {
          "base_uri": "https://localhost:8080/"
        },
        "id": "19utFBWGgBv1",
        "outputId": "0d393903-96ce-4b5a-bfce-621332744522"
      },
      "outputs": [
        {
          "name": "stdout",
          "output_type": "stream",
          "text": [
            "The mean of the column withour the dropped values:\n",
            "68.95\n",
            "Root Mean Square Error using mean method:\n",
            "14.074740242781472\n"
          ]
        }
      ],
      "source": [
        "#calcuate the mean of the column without the dropped values\n",
        "mean_value = df_copy1['reading score'].mean()\n",
        "print(\"The mean of the column withour the dropped values:\")\n",
        "print(mean_value)\n",
        "y_predicted = [mean_value] * length\n",
        "MSE = np.square(np.subtract(df.loc[idx, 'reading score'], y_predicted)).mean()\n",
        "RMSE = math.sqrt(MSE)\n",
        "print(\"Root Mean Square Error using mean method:\")\n",
        "print(RMSE)"
      ]
    },
    {
      "cell_type": "markdown",
      "metadata": {
        "id": "3CjTRo0pgBv1"
      },
      "source": [
        "**show graph for comparing the results of mean method with actual values**"
      ]
    },
    {
      "cell_type": "code",
      "execution_count": null,
      "metadata": {
        "colab": {
          "base_uri": "https://localhost:8080/",
          "height": 279
        },
        "id": "Igy_QfzvgBv1",
        "outputId": "6a3d84e7-8e0a-4283-d979-da1525573677"
      },
      "outputs": [
        {
          "data": {
            "image/png": "[encoded data removed]",
            "text/plain": [
              "<Figure size 432x288 with 1 Axes>"
            ]
          },
          "metadata": {},
          "output_type": "display_data"
        }
      ],
      "source": [
        "# Plot mean value in green\n",
        "plt.axhline(y=mean_value, color='green', linestyle='--', label='Mean')\n",
        "\n",
        "# Plot actual values in blue\n",
        "plt.scatter(idx, df.loc[idx, 'reading score'], color='blue', label='Actual')\n",
        "\n",
        "# Add legend and labels\n",
        "plt.legend()\n",
        "plt.xlabel('Index')\n",
        "plt.ylabel('reading score')\n",
        "\n",
        "# Show plot\n",
        "plt.show()"
      ]
    },
    {
      "cell_type": "markdown",
      "metadata": {
        "id": "Zb65zesFebpa"
      },
      "source": [
        "# DataSet2 - video games sales - Linear regression"
      ]
    },
    {
      "cell_type": "markdown",
      "metadata": {
        "id": "mnOF1JzVebpa"
      },
      "source": [
        "**imports**"
      ]
    },
    {
      "cell_type": "code",
      "execution_count": null,
      "metadata": {
        "id": "60VpYvvBebpb"
      },
      "outputs": [],
      "source": [
        "import pandas as pd\n",
        "import numpy as np\n",
        "from sklearn.linear_model import LinearRegression\n",
        "import math\n",
        "import matplotlib.pyplot as plt\n",
        "import seaborn as sns"
      ]
    },
    {
      "cell_type": "markdown",
      "metadata": {
        "id": "ITDwvoarebpc"
      },
      "source": [
        "**load dataset**"
      ]
    },
    {
      "cell_type": "code",
      "execution_count": null,
      "metadata": {
        "colab": {
          "base_uri": "https://localhost:8080/"
        },
        "outputId": "14721feb-d23c-4b22-cafb-aed547189fa9",
        "id": "kvLXm5pFebpc"
      },
      "outputs": [
        {
          "output_type": "stream",
          "name": "stdout",
          "text": [
            "              Rank         Year     NA_Sales     EU_Sales     JP_Sales  \\\n",
            "count  1000.000000   990.000000  1000.000000  1000.000000  1000.000000   \n",
            "mean    500.847000  2004.862626     2.079090     1.258700     0.550780   \n",
            "std     289.212225     7.236669     2.616129     1.623482     1.038156   \n",
            "min       1.000000  1980.000000     0.000000     0.000000     0.000000   \n",
            "25%     250.750000  2001.000000     0.977500     0.490000     0.000000   \n",
            "50%     500.500000  2006.000000     1.500000     0.900000     0.075000   \n",
            "75%     751.250000  2010.000000     2.235000     1.470000     0.665000   \n",
            "max    1001.000000  2016.000000    41.490000    29.020000    10.220000   \n",
            "\n",
            "       Other_Sales  Global_Sales  \n",
            "count  1000.000000   1000.000000  \n",
            "mean      0.400740      4.289180  \n",
            "std       0.643864      4.814629  \n",
            "min       0.000000      1.760000  \n",
            "25%       0.130000      2.180000  \n",
            "50%       0.240000      2.890000  \n",
            "75%       0.440000      4.390000  \n",
            "max      10.570000     82.740000  \n"
          ]
        }
      ],
      "source": [
        "df = pd.read_csv(\"vgsales.csv\").head(1000)\n",
        "df_original = pd.read_csv(\"vgsales.csv\").head(1000)\n",
        "summary = df_original.describe()\n",
        "\n",
        "print(summary)"
      ]
    },
    {
      "cell_type": "markdown",
      "metadata": {
        "id": "OM1daqI4ebpd"
      },
      "source": [
        "**Find the correlation for each two column**"
      ]
    },
    {
      "cell_type": "code",
      "execution_count": null,
      "metadata": {
        "colab": {
          "base_uri": "https://localhost:8080/",
          "height": 468
        },
        "outputId": "bd5e922c-43ef-4644-a4d6-513ecab73a92",
        "id": "wFYgEibBebpd"
      },
      "outputs": [
        {
          "output_type": "display_data",
          "data": {
            "text/plain": [
              "<Figure size 432x288 with 2 Axes>"
            ],
            "image/png": "[encoded data removed]"
          },
          "metadata": {
            "needs_background": "light"
          }
        },
        {
          "output_type": "stream",
          "name": "stdout",
          "text": [
            "Rank           -0.588136\n",
            "Year           -0.021763\n",
            "NA_Sales        0.920483\n",
            "EU_Sales        0.865994\n",
            "JP_Sales        0.555188\n",
            "Other_Sales     0.658975\n",
            "Global_Sales    1.000000\n",
            "Name: Global_Sales, dtype: float64\n"
          ]
        }
      ],
      "source": [
        "#sample_length of null values\n",
        "length = 100\n",
        "# Compute the correlation matrix\n",
        "corr = df.corr()\n",
        "sns.heatmap(corr, annot=True, cmap='coolwarm')\n",
        "plt.show()\n",
        "\n",
        "# find the correlation of each column with \"other_sales\"\n",
        "corr_matrix = df.corr()[\"Global_Sales\"]\n",
        "\n",
        "# print the correlation values\n",
        "print(corr_matrix)"
      ]
    },
    {
      "cell_type": "markdown",
      "metadata": {
        "id": "3io7yYewebpe"
      },
      "source": [
        "**set random values to nan**"
      ]
    },
    {
      "cell_type": "code",
      "execution_count": null,
      "metadata": {
        "colab": {
          "base_uri": "https://localhost:8080/"
        },
        "outputId": "4da071cc-907c-4e9f-9eee-8ebad7ee7b72",
        "id": "V-OO7fdtebpf"
      },
      "outputs": [
        {
          "output_type": "execute_result",
          "data": {
            "text/plain": [
              "Rank              0\n",
              "Name              0\n",
              "Platform          0\n",
              "Year             10\n",
              "Genre             0\n",
              "Publisher         1\n",
              "NA_Sales          0\n",
              "EU_Sales          0\n",
              "JP_Sales          0\n",
              "Other_Sales       0\n",
              "Global_Sales    100\n",
              "dtype: int64"
            ]
          },
          "metadata": {},
          "execution_count": 142
        }
      ],
      "source": [
        "idx = np.random.choice(df.index, size=length, replace=False)\n",
        "df.loc[idx, 'Global_Sales'] = np.nan\n",
        "mask1_df = df[\"Global_Sales\"].isnull()\n",
        "df.isnull().sum()"
      ]
    },
    {
      "cell_type": "markdown",
      "metadata": {
        "id": "g3cmZ75vebpf"
      },
      "source": [
        "**drop null values from dataset to train**"
      ]
    },
    {
      "cell_type": "code",
      "execution_count": null,
      "metadata": {
        "colab": {
          "base_uri": "https://localhost:8080/"
        },
        "outputId": "9ba39b78-8013-4773-92ea-5a5719cc4f76",
        "id": "4xjK90kfebpg"
      },
      "outputs": [
        {
          "output_type": "stream",
          "name": "stdout",
          "text": [
            "Rank            0\n",
            "Name            0\n",
            "Platform        0\n",
            "Year            0\n",
            "Genre           0\n",
            "Publisher       0\n",
            "NA_Sales        0\n",
            "EU_Sales        0\n",
            "JP_Sales        0\n",
            "Other_Sales     0\n",
            "Global_Sales    0\n",
            "dtype: int64\n"
          ]
        }
      ],
      "source": [
        "df_copy1 = df.copy()\n",
        "df_copy1.dropna(axis=0, inplace=True)\n",
        "print(df_copy1.isnull().sum())"
      ]
    },
    {
      "cell_type": "markdown",
      "metadata": {
        "id": "wD2n1JmFebph"
      },
      "source": [
        "**predicting the null values using linear regression**"
      ]
    },
    {
      "cell_type": "code",
      "execution_count": null,
      "metadata": {
        "colab": {
          "base_uri": "https://localhost:8080/"
        },
        "outputId": "6762195f-0037-478a-df68-f1a956b235db",
        "id": "QmZhnVLfebph"
      },
      "outputs": [
        {
          "output_type": "stream",
          "name": "stdout",
          "text": [
            "     Global_Sales  Global_Sales_predicted\n",
            "11          23.42               23.385492\n",
            "18          20.61               21.301987\n",
            "34          14.03               13.030149\n",
            "35          13.73               13.976164\n",
            "40          12.73               12.158527\n",
            "..            ...                     ...\n",
            "912          1.88                1.852873\n",
            "932          1.86                1.877679\n",
            "939          1.85                1.839177\n",
            "951          1.82                1.864095\n",
            "976          1.78                1.739149\n",
            "\n",
            "[100 rows x 2 columns]\n"
          ]
        }
      ],
      "source": [
        "X = df_copy1.iloc[:, [6, 7, 8]]\n",
        "Y = df_copy1.iloc[:, 10]\n",
        "X_Test = df[mask1_df].iloc[:, [6, 7, 8]]\n",
        "# X_Test = np.nan_to_num(X_Test)\n",
        "reg = LinearRegression()\n",
        "reg.fit(X, Y)\n",
        "res = reg.predict(X_Test)\n",
        "# Add the predicted values to a new column in the original DataFrame\n",
        "df_original.loc[mask1_df, 'Global_Sales_predicted'] = res\n",
        "# Print the DataFrame with both the original and predicted values\n",
        "print(df_original.loc[mask1_df, ['Global_Sales', 'Global_Sales_predicted']])"
      ]
    },
    {
      "cell_type": "markdown",
      "metadata": {
        "id": "hKXgAKxRebpi"
      },
      "source": [
        "**fill nan values with predicted values**"
      ]
    },
    {
      "cell_type": "code",
      "execution_count": null,
      "metadata": {
        "id": "M4t0S8qqebpi"
      },
      "outputs": [],
      "source": [
        "j = 0\n",
        "arr = df[df['Global_Sales'].isna()].index\n",
        "for i in arr:\n",
        "    df.at[i, 'Global_Sales'] = float(res[j])\n",
        "    j += 1"
      ]
    },
    {
      "cell_type": "markdown",
      "metadata": {
        "id": "uMacKzrMebpj"
      },
      "source": [
        "**calcuate error of linear regression predictions using RMSE**"
      ]
    },
    {
      "cell_type": "code",
      "execution_count": null,
      "metadata": {
        "colab": {
          "base_uri": "https://localhost:8080/"
        },
        "outputId": "1e0bc697-8a64-4e33-abaf-cb607b618aaf",
        "id": "MaJn8zosebpj"
      },
      "outputs": [
        {
          "output_type": "stream",
          "name": "stdout",
          "text": [
            "Root Mean Square Error using linear regression method:\n",
            "0.2973710516882103\n"
          ]
        }
      ],
      "source": [
        "y_actual = list(df_original.loc[idx,'Global_Sales'])\n",
        "y_predicted = list(df.loc[idx,'Global_Sales'])\n",
        "MSE = np.square(np.subtract(y_actual, y_predicted)).mean()\n",
        "RMSE = math.sqrt(MSE)\n",
        "print(\"Root Mean Square Error using linear regression method:\")\n",
        "print(RMSE)"
      ]
    },
    {
      "cell_type": "markdown",
      "metadata": {
        "id": "7UDhRFJ7ebpk"
      },
      "source": [
        "**show graph for comparing the results of linear reg with actual values**"
      ]
    },
    {
      "cell_type": "code",
      "execution_count": null,
      "metadata": {
        "colab": {
          "base_uri": "https://localhost:8080/",
          "height": 295
        },
        "outputId": "bc8e2e3e-546e-44b8-82b8-3c3925dd3c2b",
        "id": "M4VilgdXebpk"
      },
      "outputs": [
        {
          "output_type": "display_data",
          "data": {
            "text/plain": [
              "<Figure size 432x288 with 2 Axes>"
            ],
            "image/png": "[encoded data removed]"
          },
          "metadata": {
            "needs_background": "light"
          }
        }
      ],
      "source": [
        "# Plot predicted values\n",
        "plt.subplot(1, 2, 1)\n",
        "plt.scatter(idx, df.loc[idx,'Global_Sales'], color='red', marker = '.')\n",
        "plt.title('Predicted Values')\n",
        "plt.xlabel('Index')\n",
        "plt.ylabel('Global Sales')\n",
        "\n",
        "# Plot original values\n",
        "plt.subplot(1, 2, 2)\n",
        "plt.scatter(idx, df_original.loc[idx,'Global_Sales'], color='blue', marker = '.')\n",
        "plt.title('Original Values')\n",
        "plt.xlabel('Index')\n",
        "plt.ylabel('Global Sales')\n",
        "\n",
        "# Adjust plot spacing\n",
        "plt.subplots_adjust(wspace=0.4)\n",
        "\n",
        "# Show plot\n",
        "plt.show()"
      ]
    },
    {
      "cell_type": "markdown",
      "metadata": {
        "id": "tjzpz2dcebpl"
      },
      "source": [
        "**fill null values using mean and compare with actual values using RMSE**"
      ]
    },
    {
      "cell_type": "code",
      "execution_count": null,
      "metadata": {
        "colab": {
          "base_uri": "https://localhost:8080/"
        },
        "outputId": "945fc2dc-58dc-4ea4-9f2c-5a34f47e87bc",
        "id": "z3GNZOwRebpm"
      },
      "outputs": [
        {
          "output_type": "stream",
          "name": "stdout",
          "text": [
            "Root Mean Square Error using mean method:\n",
            "3.487974695447196\n"
          ]
        }
      ],
      "source": [
        "#the mean of the all the values in target column except the ones that we dropped\n",
        "mean_value = df_copy1['Global_Sales'].mean()\n",
        "y_predicted = [mean_value] * length\n",
        "MSE = np.square(np.subtract(df.loc[idx, 'Global_Sales'], y_predicted)).mean()\n",
        "RMSE = math.sqrt(MSE)\n",
        "print(\"Root Mean Square Error using mean method:\")\n",
        "print(RMSE)"
      ]
    },
    {
      "cell_type": "markdown",
      "metadata": {
        "id": "FQOsY4Zgebpm"
      },
      "source": [
        "**show graph for comparing the results of mean method with actual values**"
      ]
    },
    {
      "cell_type": "code",
      "execution_count": null,
      "metadata": {
        "colab": {
          "base_uri": "https://localhost:8080/",
          "height": 279
        },
        "outputId": "58af2d60-1e19-402a-c3da-5db4a4a01b5e",
        "id": "6WJEuS3Debpn"
      },
      "outputs": [
        {
          "output_type": "display_data",
          "data": {
            "text/plain": [
              "<Figure size 432x288 with 1 Axes>"
            ],
            "image/png": "[encoded data removed]"
          },
          "metadata": {
            "needs_background": "light"
          }
        }
      ],
      "source": [
        "# Plot mean value in green\n",
        "plt.axhline(y=mean_value, color='green', linestyle='--', label='Mean')\n",
        "\n",
        "# Plot actual values in blue\n",
        "plt.scatter(idx, df.loc[idx, 'Other_Sales'], color='blue', label='Actual', marker = '.')\n",
        "\n",
        "# Add legend and labels\n",
        "plt.legend()\n",
        "plt.xlabel('Index')\n",
        "plt.ylabel('Other Sales')\n",
        "\n",
        "# Show plot\n",
        "plt.show()"
      ]
    },
    {
      "cell_type": "markdown",
      "metadata": {
        "id": "d4483f1lVCkB"
      },
      "source": [
        "# DataSet3 - Big Mart Sale Forecast - Random Forest"
      ]
    },
    {
      "cell_type": "markdown",
      "metadata": {
        "id": "QIDAfqshdKi2"
      },
      "source": [
        "**imports**"
      ]
    },
    {
      "cell_type": "code",
      "execution_count": null,
      "metadata": {
        "id": "D5z7SZPzk06l"
      },
      "outputs": [],
      "source": [
        "import pandas as pd\n",
        "import numpy as np\n",
        "from sklearn.linear_model import LinearRegression\n",
        "from sklearn.ensemble import RandomForestClassifier\n",
        "import math\n",
        "import matplotlib.pyplot as plt\n",
        "from sklearn.metrics import confusion_matrix"
      ]
    },
    {
      "cell_type": "markdown",
      "metadata": {
        "id": "oBA656EJYb-p"
      },
      "source": [
        "**load dataset**"
      ]
    },
    {
      "cell_type": "code",
      "execution_count": null,
      "metadata": {
        "id": "CDf5DQZXWgxN",
        "colab": {
          "base_uri": "https://localhost:8080/"
        },
        "outputId": "c5f3d009-bec1-48c0-ec0d-1248ff99b016"
      },
      "outputs": [
        {
          "output_type": "stream",
          "name": "stdout",
          "text": [
            "       Item_Weight  Item_Visibility    Item_MRP  Outlet_Establishment_Year  \\\n",
            "count   576.000000       700.000000  700.000000                 700.000000   \n",
            "mean     12.944861         0.066360  140.762090                1997.607143   \n",
            "std       4.688086         0.052555   63.002964                   8.369418   \n",
            "min       4.785000         0.000000   31.290000                1985.000000   \n",
            "25%       8.710000         0.026876   92.635700                1987.000000   \n",
            "50%      12.850000         0.053690  141.465400                1999.000000   \n",
            "75%      17.100000         0.094475  188.096400                2004.000000   \n",
            "max      21.350000         0.297884  265.222600                2009.000000   \n",
            "\n",
            "       Item_Outlet_Sales  \n",
            "count         700.000000  \n",
            "mean         2244.085558  \n",
            "std          1788.159937  \n",
            "min            37.950600  \n",
            "25%           807.615400  \n",
            "50%          1807.314100  \n",
            "75%          3188.349750  \n",
            "max          9267.936000  \n"
          ]
        }
      ],
      "source": [
        "#sample_length of null values\n",
        "length = 150\n",
        "df = pd.read_csv(\"Big Mart Sale Forecast.csv\").head(700)\n",
        "df_original = pd.read_csv(\"Big Mart Sale Forecast.csv\").head(700)\n",
        "summary = df_original.describe()\n",
        "print(summary)"
      ]
    },
    {
      "cell_type": "markdown",
      "metadata": {
        "id": "9t4-kcBLWgxN"
      },
      "source": [
        "**check the distribution of the values in the chosen column**"
      ]
    },
    {
      "cell_type": "code",
      "source": [
        "# Get value counts for Outlet_Location_Type column\n",
        "location_counts = df['Outlet_Location_Type'].value_counts()\n",
        "\n",
        "# Plot bar chart of value counts\n",
        "plt.bar(location_counts.index, location_counts.values)\n",
        "\n",
        "# Set plot title and axis labels\n",
        "plt.title('Real Distribution of Outlet_Location_Type')\n",
        "plt.xlabel('Outlet Location Type')\n",
        "plt.ylabel('Count')\n",
        "\n",
        "# Show plot\n",
        "plt.show()"
      ],
      "metadata": {
        "colab": {
          "base_uri": "https://localhost:8080/",
          "height": 295
        },
        "id": "ssYgpGqXD8v1",
        "outputId": "b8c92036-ee7c-4f98-8dff-8465cd67c095"
      },
      "execution_count": null,
      "outputs": [
        {
          "output_type": "display_data",
          "data": {
            "text/plain": [
              "<Figure size 432x288 with 1 Axes>"
            ],
            "image/png": "[encoded data removed]"
          },
          "metadata": {
            "needs_background": "light"
          }
        }
      ]
    },
    {
      "cell_type": "markdown",
      "source": [
        "**set some null values**"
      ],
      "metadata": {
        "id": "N1pli0rnEZJM"
      }
    },
    {
      "cell_type": "code",
      "execution_count": null,
      "metadata": {
        "id": "89EYZ5_5WgxO"
      },
      "outputs": [],
      "source": [
        "idx = np.random.choice(df.index, size=length, replace=False)\n",
        "df.loc[idx, 'Outlet_Location_Type'] = np.nan\n",
        "mask1_df = df[\"Outlet_Location_Type\"].isnull()"
      ]
    },
    {
      "cell_type": "markdown",
      "metadata": {
        "id": "0lz_WPbTWgxO"
      },
      "source": [
        "**drop null values from dataset to train**"
      ]
    },
    {
      "cell_type": "code",
      "execution_count": null,
      "metadata": {
        "id": "dBOBywcLWgxO",
        "colab": {
          "base_uri": "https://localhost:8080/"
        },
        "outputId": "8408e809-a26f-4016-aeb4-63a0e53627f8"
      },
      "outputs": [
        {
          "output_type": "stream",
          "name": "stdout",
          "text": [
            "Item_Identifier              0\n",
            "Item_Weight                  0\n",
            "Item_Fat_Content             0\n",
            "Item_Visibility              0\n",
            "Item_Type                    0\n",
            "Item_MRP                     0\n",
            "Outlet_Identifier            0\n",
            "Outlet_Establishment_Year    0\n",
            "Outlet_Location_Type         0\n",
            "Outlet_Type                  0\n",
            "Item_Outlet_Sales            0\n",
            "dtype: int64\n"
          ]
        }
      ],
      "source": [
        "df_copy1 = df.copy()\n",
        "df_copy1.dropna(axis=0, inplace=True)\n",
        "print(df_copy1.isnull().sum())"
      ]
    },
    {
      "cell_type": "markdown",
      "metadata": {
        "id": "qSgHVKHIWgxO"
      },
      "source": [
        "**predicting the null values using random forest algorithm**"
      ]
    },
    {
      "cell_type": "code",
      "execution_count": null,
      "metadata": {
        "id": "UahodBm7WgxO",
        "colab": {
          "base_uri": "https://localhost:8080/"
        },
        "outputId": "f2d1162f-3edb-471d-e98a-c4128bbcceba"
      },
      "outputs": [
        {
          "output_type": "stream",
          "name": "stdout",
          "text": [
            "    Outlet_Location_Type Outlet_Location_Type_predicted\n",
            "5                 Tier 3                         Tier 3\n",
            "8                 Tier 2                         Tier 2\n",
            "12                Tier 1                         Tier 1\n",
            "13                Tier 1                         Tier 1\n",
            "18                Tier 3                         Tier 3\n",
            "..                   ...                            ...\n",
            "665               Tier 3                         Tier 3\n",
            "676               Tier 3                         Tier 3\n",
            "690               Tier 3                         Tier 3\n",
            "691               Tier 2                         Tier 2\n",
            "698               Tier 1                         Tier 3\n",
            "\n",
            "[150 rows x 2 columns]\n"
          ]
        },
        {
          "output_type": "stream",
          "name": "stderr",
          "text": [
            "/usr/local/lib/python3.9/dist-packages/sklearn/base.py:420: UserWarning: X does not have valid feature names, but RandomForestClassifier was fitted with feature names\n",
            "  warnings.warn(\n"
          ]
        }
      ],
      "source": [
        "X = df_copy1.iloc[:, [1,3,5,7,10]]\n",
        "Y = df_copy1.iloc[:, 8]\n",
        "X_Test = df[mask1_df].iloc[:, [1,3,5,7,10]]\n",
        "X_Test = np.nan_to_num(X_Test)\n",
        "classifier = RandomForestClassifier()\n",
        "classifier = classifier.fit(X, Y)\n",
        "res = classifier.predict(X_Test)\n",
        "# Add the predicted values to a new column in the original DataFrame\n",
        "df_original.loc[mask1_df, 'Outlet_Location_Type_predicted'] = res\n",
        "# Print the DataFrame with both the original and predicted values\n",
        "print(df_original.loc[mask1_df, ['Outlet_Location_Type', 'Outlet_Location_Type_predicted']])"
      ]
    },
    {
      "cell_type": "markdown",
      "metadata": {
        "id": "YkelzEk1WgxO"
      },
      "source": [
        "**fill nan values with predicted values**"
      ]
    },
    {
      "cell_type": "code",
      "execution_count": null,
      "metadata": {
        "id": "HLdVv0ajWgxO"
      },
      "outputs": [],
      "source": [
        "j = 0\n",
        "arr = df[df['Outlet_Location_Type'].isna()].index\n",
        "for i in arr:\n",
        "    df.at[i, 'Outlet_Location_Type'] = res[j]\n",
        "    j += 1"
      ]
    },
    {
      "cell_type": "markdown",
      "source": [
        "**Check the distribution after using random forest predictions**"
      ],
      "metadata": {
        "id": "cVqbMT4aHhRb"
      }
    },
    {
      "cell_type": "code",
      "source": [
        "# Get value counts for Outlet_Location_Type column\n",
        "location_counts = df['Outlet_Location_Type'].value_counts()\n",
        "\n",
        "# Plot bar chart of value counts\n",
        "plt.bar(location_counts.index, location_counts.values)\n",
        "\n",
        "# Set plot title and axis labels\n",
        "plt.title('Distribution of Type after Random forest method')\n",
        "plt.xlabel('Outlet Location Type')\n",
        "plt.ylabel('Count')\n",
        "\n",
        "# Show plot\n",
        "plt.show()"
      ],
      "metadata": {
        "colab": {
          "base_uri": "https://localhost:8080/",
          "height": 295
        },
        "id": "z-KLuQD1HaKC",
        "outputId": "a1cd1a73-b611-41a5-992d-c7db19cc0d14"
      },
      "execution_count": null,
      "outputs": [
        {
          "output_type": "display_data",
          "data": {
            "text/plain": [
              "<Figure size 432x288 with 1 Axes>"
            ],
            "image/png": "[encoded data removed]"
          },
          "metadata": {
            "needs_background": "light"
          }
        }
      ]
    },
    {
      "cell_type": "markdown",
      "metadata": {
        "id": "GX4jZG3qWgxP"
      },
      "source": [
        "**calcuate error of random forest predictions using traditional method**"
      ]
    },
    {
      "cell_type": "code",
      "execution_count": null,
      "metadata": {
        "colab": {
          "base_uri": "https://localhost:8080/"
        },
        "id": "XvXg9ZhpWgxP",
        "outputId": "631bf479-8bf1-4607-da02-8136fcab666d"
      },
      "outputs": [
        {
          "output_type": "stream",
          "name": "stdout",
          "text": [
            "Error rate using random forest algorithm:\n",
            "0.07999999999999996\n"
          ]
        }
      ],
      "source": [
        "y_actual = list(df_original.loc[idx,'Outlet_Location_Type'])\n",
        "y_predicted = list(df.loc[idx,'Outlet_Location_Type'])\n",
        "sum = 0\n",
        "for i in range(len(y_actual)):\n",
        "  if y_predicted[i] == y_actual[i]:\n",
        "    sum += 1\n",
        "error_rate = 1-(sum / len(y_actual))\n",
        "print(\"Error rate using random forest algorithm:\")\n",
        "print(error_rate)"
      ]
    },
    {
      "cell_type": "markdown",
      "metadata": {
        "id": "XY88FI7jrC79"
      },
      "source": [
        "**finding the most frequent value**\n"
      ]
    },
    {
      "cell_type": "code",
      "execution_count": null,
      "metadata": {
        "id": "RUVQGDncWgxP",
        "colab": {
          "base_uri": "https://localhost:8080/"
        },
        "outputId": "2d680010-6b09-46e5-8dae-7dbc8e9f0928"
      },
      "outputs": [
        {
          "output_type": "stream",
          "name": "stdout",
          "text": [
            "most frequent string in the target column (without the dropped values):\n",
            "Tier 3\n"
          ]
        }
      ],
      "source": [
        "counter = 0\n",
        "num = list(df_original['Outlet_Location_Type'])[0]\n",
        "  \n",
        "for i in list(df_original['Outlet_Location_Type']):\n",
        "    curr_frequency = list(df_original['Outlet_Location_Type']).count(i)\n",
        "    if(curr_frequency> counter):\n",
        "        counter = curr_frequency\n",
        "        num = i\n",
        "most_freq = num\n",
        "print(\"most frequent string in the target column (without the dropped values):\")\n",
        "print(most_freq)"
      ]
    },
    {
      "cell_type": "markdown",
      "metadata": {
        "id": "yBuJx5zzrI4X"
      },
      "source": [
        "**fill nulls with the most frequent value**"
      ]
    },
    {
      "cell_type": "code",
      "execution_count": null,
      "metadata": {
        "id": "9mEOnshujyEQ"
      },
      "outputs": [],
      "source": [
        "j = 0\n",
        "for i in arr:\n",
        "    df.at[i, 'Outlet_Location_Type'] = most_freq\n",
        "    j += 1"
      ]
    },
    {
      "cell_type": "markdown",
      "metadata": {
        "id": "dsfg1IgprN68"
      },
      "source": [
        "**calcuate error of most frequent and actual using traditional method**"
      ]
    },
    {
      "cell_type": "code",
      "execution_count": null,
      "metadata": {
        "colab": {
          "base_uri": "https://localhost:8080/"
        },
        "id": "79gWEpQEj93Y",
        "outputId": "86071274-9754-4cbb-cd13-2aeda2559733"
      },
      "outputs": [
        {
          "output_type": "stream",
          "name": "stdout",
          "text": [
            "Error rate using most frequent method:\n",
            "0.6266666666666667\n"
          ]
        }
      ],
      "source": [
        "y_actual = list(df_original.loc[idx,'Outlet_Location_Type'])\n",
        "y_predicted = list(df.loc[idx,'Outlet_Location_Type'])\n",
        "sum = 0\n",
        "for i in range(len(y_actual)):\n",
        "  if y_predicted[i] == y_actual[i]:\n",
        "    sum += 1\n",
        "error_rate = 1-(sum / len(y_actual))\n",
        "print(\"Error rate using most frequent method:\")\n",
        "print(error_rate)"
      ]
    },
    {
      "cell_type": "markdown",
      "metadata": {
        "id": "6Q8Q7_3tWgxQ"
      },
      "source": [
        "**Check the distribution after using random forest predictions**"
      ]
    },
    {
      "cell_type": "code",
      "execution_count": null,
      "metadata": {
        "colab": {
          "base_uri": "https://localhost:8080/",
          "height": 295
        },
        "id": "nRBs9EsoWgxQ",
        "outputId": "88fd98cc-2a3a-4f8e-86a8-d2a650b4dab3"
      },
      "outputs": [
        {
          "output_type": "display_data",
          "data": {
            "text/plain": [
              "<Figure size 432x288 with 1 Axes>"
            ],
            "image/png": "[encoded data removed]"
          },
          "metadata": {
            "needs_background": "light"
          }
        }
      ],
      "source": [
        "# Get value counts for Outlet_Location_Type column\n",
        "location_counts = df['Outlet_Location_Type'].value_counts()\n",
        "\n",
        "# Plot bar chart of value counts\n",
        "plt.bar(location_counts.index, location_counts.values)\n",
        "\n",
        "# Set plot title and axis labels\n",
        "plt.title('Distribution of Type Using Most Frequent Method')\n",
        "plt.xlabel('Outlet Location Type')\n",
        "plt.ylabel('Count')\n",
        "\n",
        "# Show plot\n",
        "plt.show()"
      ]
    },
    {
      "cell_type": "markdown",
      "metadata": {
        "id": "4Vs88EdIXP7Y"
      },
      "source": [
        "# DataSet4 - Titanic - Random forest"
      ]
    },
    {
      "cell_type": "markdown",
      "metadata": {
        "id": "A4TAkg3Rk7Nw"
      },
      "source": [
        "**imports**"
      ]
    },
    {
      "cell_type": "code",
      "execution_count": null,
      "metadata": {
        "id": "GDkf4N6IXxMd"
      },
      "outputs": [],
      "source": [
        "import pandas as pd\n",
        "import numpy as np\n",
        "from sklearn.linear_model import LinearRegression\n",
        "from sklearn.ensemble import RandomForestClassifier\n",
        "import math\n",
        "import matplotlib.pyplot as plt\n",
        "from sklearn.metrics import confusion_matrix"
      ]
    },
    {
      "cell_type": "markdown",
      "metadata": {
        "id": "QR325QK0dbgW"
      },
      "source": [
        "**load dataset**"
      ]
    },
    {
      "cell_type": "code",
      "execution_count": null,
      "metadata": {
        "colab": {
          "base_uri": "https://localhost:8080/"
        },
        "id": "8c2pQRxWXxMd",
        "outputId": "a2b4c571-4757-4e7e-e2a5-0eb57e5c6d44"
      },
      "outputs": [
        {
          "output_type": "stream",
          "name": "stdout",
          "text": [
            "   PassengerId  Survived  Pclass  \\\n",
            "0          892         0       3   \n",
            "1          893         1       3   \n",
            "2          894         0       2   \n",
            "3          895         0       3   \n",
            "4          896         1       3   \n",
            "\n",
            "                                           Name     Sex   Age  SibSp  Parch  \\\n",
            "0                              Kelly, Mr. James    male  34.5      0      0   \n",
            "1              Wilkes, Mrs. James (Ellen Needs)  female  47.0      1      0   \n",
            "2                     Myles, Mr. Thomas Francis    male  62.0      0      0   \n",
            "3                              Wirz, Mr. Albert    male  27.0      0      0   \n",
            "4  Hirvonen, Mrs. Alexander (Helga E Lindqvist)  female  22.0      1      1   \n",
            "\n",
            "    Ticket     Fare Embarked  \n",
            "0   330911   7.8292        Q  \n",
            "1   363272   7.0000        S  \n",
            "2   240276   9.6875        Q  \n",
            "3   315154   8.6625        S  \n",
            "4  3101298  12.2875        S  \n"
          ]
        }
      ],
      "source": [
        "#sample_length of null values\n",
        "length = 100\n",
        "df = pd.read_csv(\"titanic.csv\")\n",
        "df_original = pd.read_csv(\"titanic.csv\")\n",
        "summary = df_original.describe()\n",
        "\n",
        "print(df.head())"
      ]
    },
    {
      "cell_type": "markdown",
      "source": [
        "**Check the distribution of the values in the chosen column**"
      ],
      "metadata": {
        "id": "E5vtdcoMLmf0"
      }
    },
    {
      "cell_type": "code",
      "source": [
        "# Get value counts for Outlet_Location_Type column\n",
        "location_counts = df['Embarked'].value_counts()\n",
        "\n",
        "# Plot bar chart of value counts\n",
        "plt.bar(location_counts.index, location_counts.values)\n",
        "\n",
        "# Set plot title and axis labels\n",
        "plt.title('Original Distribution of Embarked')\n",
        "plt.xlabel('Embarked')\n",
        "plt.ylabel('Count')\n",
        "\n",
        "# Show plot\n",
        "plt.show()"
      ],
      "metadata": {
        "colab": {
          "base_uri": "https://localhost:8080/",
          "height": 295
        },
        "id": "MdugU99NLdgr",
        "outputId": "77d7054f-0822-4bb7-b730-4d251e177dfa"
      },
      "execution_count": null,
      "outputs": [
        {
          "output_type": "display_data",
          "data": {
            "text/plain": [
              "<Figure size 432x288 with 1 Axes>"
            ],
            "image/png": "[encoded data removed]"
          },
          "metadata": {
            "needs_background": "light"
          }
        }
      ]
    },
    {
      "cell_type": "markdown",
      "metadata": {
        "id": "bfmPOhqNXxMd"
      },
      "source": [
        "**set random values to nan**"
      ]
    },
    {
      "cell_type": "code",
      "execution_count": null,
      "metadata": {
        "colab": {
          "base_uri": "https://localhost:8080/"
        },
        "id": "LLH_J2nSXxMe",
        "outputId": "9568c475-3b4e-4b7d-f787-3336a68fb81a"
      },
      "outputs": [
        {
          "output_type": "execute_result",
          "data": {
            "text/plain": [
              "PassengerId      0\n",
              "Survived         0\n",
              "Pclass           0\n",
              "Name             0\n",
              "Sex              0\n",
              "Age             86\n",
              "SibSp            0\n",
              "Parch            0\n",
              "Ticket           0\n",
              "Fare             1\n",
              "Embarked       100\n",
              "dtype: int64"
            ]
          },
          "metadata": {},
          "execution_count": 53
        }
      ],
      "source": [
        "idx = np.random.choice(df.index, size=length, replace=False)\n",
        "df.loc[idx, 'Embarked'] = np.nan\n",
        "mask1_df = df[\"Embarked\"].isnull()\n",
        "df.isnull().sum()"
      ]
    },
    {
      "cell_type": "markdown",
      "metadata": {
        "id": "WMxh8e5IXxMe"
      },
      "source": [
        "**drop null values from dataset to train**"
      ]
    },
    {
      "cell_type": "code",
      "execution_count": null,
      "metadata": {
        "colab": {
          "base_uri": "https://localhost:8080/"
        },
        "id": "aBLvptAjXxMe",
        "outputId": "27915960-e255-4d04-9a51-41d64a7edfc2"
      },
      "outputs": [
        {
          "output_type": "stream",
          "name": "stdout",
          "text": [
            "PassengerId    0\n",
            "Survived       0\n",
            "Pclass         0\n",
            "Name           0\n",
            "Sex            0\n",
            "Age            0\n",
            "SibSp          0\n",
            "Parch          0\n",
            "Ticket         0\n",
            "Fare           0\n",
            "Embarked       0\n",
            "dtype: int64\n"
          ]
        }
      ],
      "source": [
        "df_copy1 = df.copy()\n",
        "df_copy1.dropna(axis=0, inplace=True)\n",
        "print(df_copy1.isnull().sum())"
      ]
    },
    {
      "cell_type": "markdown",
      "metadata": {
        "id": "A5337bK4XxMf"
      },
      "source": [
        "**predicting the null values using random forest algorithm**"
      ]
    },
    {
      "cell_type": "code",
      "execution_count": null,
      "metadata": {
        "colab": {
          "base_uri": "https://localhost:8080/"
        },
        "id": "0SFwweoPXxMf",
        "outputId": "219599c6-4219-4107-bcc7-4895c541dc8f"
      },
      "outputs": [
        {
          "output_type": "stream",
          "name": "stdout",
          "text": [
            "    Embarked Embarked_predicted\n",
            "6          Q                  S\n",
            "9          S                  S\n",
            "12         S                  S\n",
            "15         C                  S\n",
            "16         Q                  S\n",
            "..       ...                ...\n",
            "399        Q                  S\n",
            "401        S                  S\n",
            "402        C                  C\n",
            "405        C                  S\n",
            "406        S                  S\n",
            "\n",
            "[100 rows x 2 columns]\n"
          ]
        },
        {
          "output_type": "stream",
          "name": "stderr",
          "text": [
            "/usr/local/lib/python3.8/dist-packages/sklearn/base.py:420: UserWarning: X does not have valid feature names, but RandomForestClassifier was fitted with feature names\n",
            "  warnings.warn(\n"
          ]
        }
      ],
      "source": [
        "X = df_copy1.iloc[:, [1,2,5,6,7,9]]\n",
        "Y = df_copy1.iloc[:, 10]\n",
        "X_Test = df[mask1_df].iloc[:, [1,2,5,6,7,9]]\n",
        "X_Test = np.nan_to_num(X_Test)\n",
        "classifier = RandomForestClassifier()\n",
        "classifier = classifier.fit(X, Y)\n",
        "res = classifier.predict(X_Test)\n",
        "# Add the predicted values to a new column in the original DataFrame\n",
        "df_original.loc[mask1_df, 'Embarked_predicted'] = res\n",
        "# Print the DataFrame with both the original and predicted values\n",
        "print(df_original.loc[mask1_df, ['Embarked', 'Embarked_predicted']])"
      ]
    },
    {
      "cell_type": "markdown",
      "metadata": {
        "id": "KA2YLt32XxMf"
      },
      "source": [
        "**fill nan values with predicted values**"
      ]
    },
    {
      "cell_type": "code",
      "execution_count": null,
      "metadata": {
        "id": "NKtS8Sz5XxMg"
      },
      "outputs": [],
      "source": [
        "j = 0\n",
        "arr = df[df['Embarked'].isna()].index\n",
        "for i in arr:\n",
        "    df.at[i, 'Embarked'] = res[j]\n",
        "    j += 1"
      ]
    },
    {
      "cell_type": "markdown",
      "metadata": {
        "id": "1pSxD_l2XxMg"
      },
      "source": [
        "**calcuate error of random forest predictions using traditional method**"
      ]
    },
    {
      "cell_type": "code",
      "execution_count": null,
      "metadata": {
        "colab": {
          "base_uri": "https://localhost:8080/"
        },
        "id": "aw4Y_CywXxMg",
        "outputId": "d049b9dc-d0eb-4d32-f943-3dd7ff983ba5"
      },
      "outputs": [
        {
          "output_type": "stream",
          "name": "stdout",
          "text": [
            "Error rate using random forest algorithm:\n",
            "0.28\n"
          ]
        }
      ],
      "source": [
        "y_actual = list(df_original.loc[idx, 'Embarked'])\n",
        "y_predicted = list(df.loc[idx, 'Embarked'])\n",
        "sum = 0\n",
        "for i in range(len(y_actual)):\n",
        "  if y_predicted[i] == y_actual[i]:\n",
        "    sum += 1\n",
        "error_rate = 1-(sum / len(y_actual))\n",
        "print(\"Error rate using random forest algorithm:\")\n",
        "print(error_rate)"
      ]
    },
    {
      "cell_type": "markdown",
      "metadata": {
        "id": "KdbKM5cKXxMh"
      },
      "source": [
        "**Check the distributin after using random forest predictions**"
      ]
    },
    {
      "cell_type": "code",
      "execution_count": null,
      "metadata": {
        "colab": {
          "base_uri": "https://localhost:8080/",
          "height": 295
        },
        "id": "jQX76PsbXxMh",
        "outputId": "5aefb3e8-d5cc-4279-8df9-325fc3e3f788"
      },
      "outputs": [
        {
          "output_type": "display_data",
          "data": {
            "text/plain": [
              "<Figure size 432x288 with 1 Axes>"
            ],
            "image/png": "[encoded data removed]"
          },
          "metadata": {
            "needs_background": "light"
          }
        }
      ],
      "source": [
        "# Get value counts for Outlet_Location_Type column\n",
        "location_counts = df['Embarked'].value_counts()\n",
        "\n",
        "# Plot bar chart of value counts\n",
        "plt.bar(location_counts.index, location_counts.values)\n",
        "\n",
        "# Set plot title and axis labels\n",
        "plt.title('Random forest method Distribution of Embarked')\n",
        "plt.xlabel('Embarked')\n",
        "plt.ylabel('Count')\n",
        "\n",
        "# Show plot\n",
        "plt.show()"
      ]
    },
    {
      "cell_type": "markdown",
      "metadata": {
        "id": "rFOwf1n5XxMh"
      },
      "source": [
        "**finding the most frequent value**\n"
      ]
    },
    {
      "cell_type": "code",
      "execution_count": null,
      "metadata": {
        "id": "gDl9LY4xXxMi"
      },
      "outputs": [],
      "source": [
        "counter = 0\n",
        "num = list(df_original['Embarked'])[0]\n",
        "  \n",
        "for i in list(df_original['Embarked']):\n",
        "    curr_frequency = list(df_original['Embarked']).count(i)\n",
        "    if(curr_frequency> counter):\n",
        "        counter = curr_frequency\n",
        "        num = i\n",
        "most_freq = num"
      ]
    },
    {
      "cell_type": "markdown",
      "metadata": {
        "id": "Hc5ggSpkXxMi"
      },
      "source": [
        "**fill nulls with the most frequent value**"
      ]
    },
    {
      "cell_type": "code",
      "execution_count": null,
      "metadata": {
        "id": "ojZ1L2sBXxMj"
      },
      "outputs": [],
      "source": [
        "j = 0\n",
        "for i in arr:\n",
        "    df.at[i, 'Embarked'] = most_freq\n",
        "    j += 1"
      ]
    },
    {
      "cell_type": "markdown",
      "metadata": {
        "id": "GqDaPkyCXxMj"
      },
      "source": [
        "**calcuate error of most frequent and actual using traditional method**"
      ]
    },
    {
      "cell_type": "code",
      "execution_count": null,
      "metadata": {
        "colab": {
          "base_uri": "https://localhost:8080/"
        },
        "id": "fOfde2EUXxMk",
        "outputId": "5813a9a8-aa2a-4588-ef6c-3c14ec804d8d"
      },
      "outputs": [
        {
          "output_type": "stream",
          "name": "stdout",
          "text": [
            "Error rate using most frequent method:\n",
            "0.345\n"
          ]
        }
      ],
      "source": [
        "y_actual = list(df_original.loc[idx, 'Embarked'])\n",
        "y_predicted = list(df.loc[idx,'Embarked'])\n",
        "sum = 0\n",
        "for i in range(len(y_actual)):\n",
        "  if y_predicted[i] == y_actual[i]:\n",
        "    sum += 1\n",
        "error_rate = 1-(sum / len(y_actual))\n",
        "print(\"Error rate using most frequent method:\")\n",
        "print(error_rate)"
      ]
    },
    {
      "cell_type": "markdown",
      "metadata": {
        "id": "8HXrtBzoXxMk"
      },
      "source": [
        "****show the distribution after using most frequent method****"
      ]
    },
    {
      "cell_type": "code",
      "execution_count": null,
      "metadata": {
        "colab": {
          "base_uri": "https://localhost:8080/",
          "height": 295
        },
        "id": "NIMhENudXxMk",
        "outputId": "d2fbb069-2998-4ee5-86c2-cdb2227cfa19"
      },
      "outputs": [
        {
          "output_type": "display_data",
          "data": {
            "text/plain": [
              "<Figure size 432x288 with 1 Axes>"
            ],
            "image/png": "[encoded data removed]"
          },
          "metadata": {
            "needs_background": "light"
          }
        }
      ],
      "source": [
        "# Get value counts for Outlet_Location_Type column\n",
        "location_counts = df['Embarked'].value_counts()\n",
        "\n",
        "# Plot bar chart of value counts\n",
        "plt.bar(location_counts.index, location_counts.values)\n",
        "\n",
        "# Set plot title and axis labels\n",
        "plt.title('Most frequent method Distribution of Embarked')\n",
        "plt.xlabel('Embarked')\n",
        "plt.ylabel('Count')\n",
        "\n",
        "# Show plot\n",
        "plt.show()"
      ]
    }
  ],
  "metadata": {
    "colab": {
      "collapsed_sections": [
        "gYUR0belfmfT",
        "Zb65zesFebpa",
        "d4483f1lVCkB",
        "4Vs88EdIXP7Y"
      ],
      "provenance": []
    },
    "kernelspec": {
      "display_name": "Python 3",
      "name": "python3"
    },
    "language_info": {
      "name": "python"
    }
  },
  "nbformat": 4,
  "nbformat_minor": 0
}